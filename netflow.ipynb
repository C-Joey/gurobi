{
  "cells": [
    {
      "cell_type": "markdown",
      "metadata": {
        "pycharm": {}
      },
      "source": "# NETFLOW\n## 这是一个两种产品的运输问题\n\n1. Solve a multi-commodity flow problem.  Two products (\u0027Pencils\u0027 and \u0027Pens\u0027) are produced in 2 cities (\u0027Detroit\u0027 and \u0027Denver\u0027) and must be sent to warehouses in 3 cities (\u0027Boston\u0027, \u0027New York\u0027, and \u0027Seattle\u0027) to satisfy demand (\u0027$inflow_{[h,i]}$\u0027).\n\n2. Flows on the transportation network must respect arc capacity constraints(\u0027$ capacity_{[i,j]}$\u0027). The objective is to minimize the sum of the arc transportation costs (\u0027$cost_{[i,j]}$\u0027).\n\n\u003eOPT: MIN_COST\n\n\u003eCONSTRS：\n1. 满足流量限制\n2. 满足供需平衡\n\n"
    },
    {
      "cell_type": "code",
      "execution_count": 1,
      "metadata": {
        "pycharm": {}
      },
      "outputs": [],
      "source": [
        "from gurobipy import *"
      ]
    },
    {
      "cell_type": "code",
      "execution_count": 2,
      "metadata": {
        "pycharm": {}
      },
      "outputs": [],
      "source": [
        "commodities \u003d [\u0027Pencils\u0027, \u0027Pens\u0027]\n",
        "nodes \u003d [\u0027Detroit\u0027, \u0027Denver\u0027, \u0027Boston\u0027, \u0027New York\u0027, \u0027Seattle\u0027]"
      ]
    },
    {
      "cell_type": "code",
      "execution_count": 3,
      "metadata": {
        "pycharm": {}
      },
      "outputs": [],
      "source": [
        "arcs, capacity \u003d multidict({\n",
        "  (\u0027Detroit\u0027, \u0027Boston\u0027):   100,\n",
        "  (\u0027Detroit\u0027, \u0027New York\u0027):  80,\n",
        "  (\u0027Detroit\u0027, \u0027Seattle\u0027):  120,\n",
        "  (\u0027Denver\u0027,  \u0027Boston\u0027):   120,\n",
        "  (\u0027Denver\u0027,  \u0027New York\u0027): 120,\n",
        "  (\u0027Denver\u0027,  \u0027Seattle\u0027):  120 })"
      ]
    },
    {
      "cell_type": "code",
      "execution_count": 4,
      "metadata": {
        "pycharm": {}
      },
      "outputs": [],
      "source": [
        "cost \u003d {\n",
        "  (\u0027Pencils\u0027, \u0027Detroit\u0027, \u0027Boston\u0027):   10,\n",
        "  (\u0027Pencils\u0027, \u0027Detroit\u0027, \u0027New York\u0027): 20,\n",
        "  (\u0027Pencils\u0027, \u0027Detroit\u0027, \u0027Seattle\u0027):  60,\n",
        "  (\u0027Pencils\u0027, \u0027Denver\u0027,  \u0027Boston\u0027):   40,\n",
        "  (\u0027Pencils\u0027, \u0027Denver\u0027,  \u0027New York\u0027): 40,\n",
        "  (\u0027Pencils\u0027, \u0027Denver\u0027,  \u0027Seattle\u0027):  30,\n",
        "  (\u0027Pens\u0027,    \u0027Detroit\u0027, \u0027Boston\u0027):   20,\n",
        "  (\u0027Pens\u0027,    \u0027Detroit\u0027, \u0027New York\u0027): 20,\n",
        "  (\u0027Pens\u0027,    \u0027Detroit\u0027, \u0027Seattle\u0027):  80,\n",
        "  (\u0027Pens\u0027,    \u0027Denver\u0027,  \u0027Boston\u0027):   60,\n",
        "  (\u0027Pens\u0027,    \u0027Denver\u0027,  \u0027New York\u0027): 70,\n",
        "  (\u0027Pens\u0027,    \u0027Denver\u0027,  \u0027Seattle\u0027):  30 }"
      ]
    },
    {
      "cell_type": "code",
      "execution_count": 5,
      "metadata": {
        "pycharm": {}
      },
      "outputs": [],
      "source": [
        "inflow \u003d {\n",
        "  (\u0027Pencils\u0027, \u0027Detroit\u0027):   50,\n",
        "  (\u0027Pencils\u0027, \u0027Denver\u0027):    60,\n",
        "  (\u0027Pencils\u0027, \u0027Boston\u0027):   -50,\n",
        "  (\u0027Pencils\u0027, \u0027New York\u0027): -50,\n",
        "  (\u0027Pencils\u0027, \u0027Seattle\u0027):  -10,\n",
        "  (\u0027Pens\u0027,    \u0027Detroit\u0027):   60,\n",
        "  (\u0027Pens\u0027,    \u0027Denver\u0027):    40,\n",
        "  (\u0027Pens\u0027,    \u0027Boston\u0027):   -40,\n",
        "  (\u0027Pens\u0027,    \u0027New York\u0027): -30,\n",
        "  (\u0027Pens\u0027,    \u0027Seattle\u0027):  -30 }"
      ]
    },
    {
      "cell_type": "code",
      "execution_count": 6,
      "metadata": {
        "pycharm": {}
      },
      "outputs": [],
      "source": [
        "# Create optimization model\n",
        "m \u003d Model(\u0027netflow\u0027)"
      ]
    },
    {
      "cell_type": "code",
      "execution_count": 7,
      "metadata": {
        "pycharm": {}
      },
      "outputs": [],
      "source": [
        "# Create variables\n",
        "flow \u003d m.addVars(commodities, arcs, obj\u003dcost, name\u003d\"flow\")"
      ]
    },
    {
      "cell_type": "code",
      "execution_count": 8,
      "metadata": {
        "pycharm": {}
      },
      "outputs": [
        {
          "data": {
            "text/plain": [
              "{(\u0027Detroit\u0027, \u0027Boston\u0027): \u003cgurobi.Constr *Awaiting Model Update*\u003e,\n",
              " (\u0027Detroit\u0027, \u0027New York\u0027): \u003cgurobi.Constr *Awaiting Model Update*\u003e,\n",
              " (\u0027Detroit\u0027, \u0027Seattle\u0027): \u003cgurobi.Constr *Awaiting Model Update*\u003e,\n",
              " (\u0027Denver\u0027, \u0027Boston\u0027): \u003cgurobi.Constr *Awaiting Model Update*\u003e,\n",
              " (\u0027Denver\u0027, \u0027New York\u0027): \u003cgurobi.Constr *Awaiting Model Update*\u003e,\n",
              " (\u0027Denver\u0027, \u0027Seattle\u0027): \u003cgurobi.Constr *Awaiting Model Update*\u003e}"
            ]
          },
          "execution_count": 8,
          "metadata": {},
          "output_type": "execute_result"
        }
      ],
      "source": [
        "# Arc capacity constraints\n",
        "m.addConstrs(\n",
        "    (flow.sum(\u0027*\u0027,i,j) \u003c\u003d capacity[i,j] for i,j in arcs), \"cap\")"
      ]
    },
    {
      "cell_type": "code",
      "execution_count": 9,
      "metadata": {
        "pycharm": {}
      },
      "outputs": [
        {
          "data": {
            "text/plain": [
              "{(\u0027Pencils\u0027, \u0027Detroit\u0027): \u003cgurobi.Constr *Awaiting Model Update*\u003e,\n",
              " (\u0027Pencils\u0027, \u0027Denver\u0027): \u003cgurobi.Constr *Awaiting Model Update*\u003e,\n",
              " (\u0027Pencils\u0027, \u0027Boston\u0027): \u003cgurobi.Constr *Awaiting Model Update*\u003e,\n",
              " (\u0027Pencils\u0027, \u0027New York\u0027): \u003cgurobi.Constr *Awaiting Model Update*\u003e,\n",
              " (\u0027Pencils\u0027, \u0027Seattle\u0027): \u003cgurobi.Constr *Awaiting Model Update*\u003e,\n",
              " (\u0027Pens\u0027, \u0027Detroit\u0027): \u003cgurobi.Constr *Awaiting Model Update*\u003e,\n",
              " (\u0027Pens\u0027, \u0027Denver\u0027): \u003cgurobi.Constr *Awaiting Model Update*\u003e,\n",
              " (\u0027Pens\u0027, \u0027Boston\u0027): \u003cgurobi.Constr *Awaiting Model Update*\u003e,\n",
              " (\u0027Pens\u0027, \u0027New York\u0027): \u003cgurobi.Constr *Awaiting Model Update*\u003e,\n",
              " (\u0027Pens\u0027, \u0027Seattle\u0027): \u003cgurobi.Constr *Awaiting Model Update*\u003e}"
            ]
          },
          "execution_count": 9,
          "metadata": {},
          "output_type": "execute_result"
        }
      ],
      "source": [
        "# Flow conservation constraints\n",
        "m.addConstrs(\n",
        "    (flow.sum(h,\u0027*\u0027,j) + inflow[h,j] \u003d\u003d flow.sum(h,j,\u0027*\u0027)\n",
        "    for h in commodities for j in nodes), \"node\")"
      ]
    },
    {
      "cell_type": "code",
      "execution_count": 10,
      "metadata": {
        "pycharm": {}
      },
      "outputs": [
        {
          "name": "stdout",
          "output_type": "stream",
          "text": [
            "Optimize a model with 16 rows, 12 columns and 36 nonzeros\n",
            "Coefficient statistics:\n",
            "  Matrix range     [1e+00, 1e+00]\n",
            "  Objective range  [1e+01, 8e+01]\n",
            "  Bounds range     [0e+00, 0e+00]\n",
            "  RHS range        [1e+01, 1e+02]\n",
            "Presolve removed 16 rows and 12 columns\n",
            "Presolve time: 0.02s\n",
            "Presolve: All rows and columns removed\n",
            "Iteration    Objective       Primal Inf.    Dual Inf.      Time\n",
            "       0    5.5000000e+03   0.000000e+00   0.000000e+00      0s\n",
            "\n",
            "Solved in 0 iterations and 0.03 seconds\n",
            "Optimal objective  5.500000000e+03\n"
          ]
        }
      ],
      "source": [
        "# Compute optimal solution\n",
        "m.optimize()"
      ]
    },
    {
      "cell_type": "code",
      "execution_count": 11,
      "metadata": {
        "pycharm": {}
      },
      "outputs": [
        {
          "name": "stdout",
          "output_type": "stream",
          "text": [
            "\n",
            "Optimal flows for Pencils:\n",
            "Detroit\t -----\u003e\t Boston \t:50\n",
            "Denver\t -----\u003e\t New York \t:50\n",
            "Denver\t -----\u003e\t Seattle \t:10\n",
            "\n",
            "Optimal flows for Pens:\n",
            "Detroit\t -----\u003e\t Boston \t:30\n",
            "Detroit\t -----\u003e\t New York \t:30\n",
            "Denver\t -----\u003e\t Boston \t:10\n",
            "Denver\t -----\u003e\t Seattle \t:30\n"
          ]
        }
      ],
      "source": [
        "if m.status \u003d\u003d GRB.Status.OPTIMAL:\n",
        "    solution \u003d m.getAttr(\u0027x\u0027, flow)\n",
        "    for h in commodities:\n",
        "        print(\u0027\\nOptimal flows for %s:\u0027 % h)\n",
        "        for i,j in arcs:\n",
        "            if solution[h,i,j] \u003e 0:\n",
        "                print(\u0027%s\\t -----\u003e\\t %s \\t:%g\u0027 % (i, j, solution[h,i,j]))"
      ]
    },
    {
      "cell_type": "code",
      "execution_count": 12,
      "metadata": {
        "pycharm": {}
      },
      "outputs": [
        {
          "name": "stdout",
          "output_type": "stream",
          "text": [
            "Optimal total cost:\n",
            "210\n"
          ]
        }
      ],
      "source": [
        "#sum\u003dquicksum(cost[h,i,j]*solution[h,i,j]for h in commodities\n",
        "#             for i in nodes for j in nodes)\n",
        "s\u003d0\n",
        "solution[h,i,j]\n",
        "for h in commodities:\n",
        "    for i,j in arcs:\n",
        "        s+\u003dint(solution[h,i,j])\n",
        "print(\u0027Optimal total cost:\\n%d\u0027% s)"
      ]
    }
  ],
  "metadata": {
    "kernelspec": {
      "display_name": "Python 3",
      "language": "python",
      "name": "python3"
    },
    "language_info": {
      "codemirror_mode": {
        "name": "ipython",
        "version": 3
      },
      "file_extension": ".py",
      "mimetype": "text/x-python",
      "name": "python",
      "nbconvert_exporter": "python",
      "pygments_lexer": "ipython3",
      "version": "3.7.0"
    }
  },
  "nbformat": 4,
  "nbformat_minor": 2
}