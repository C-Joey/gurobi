{
 "cells": [
  {
   "cell_type": "markdown",
   "metadata": {
    "pycharm": {}
   },
   "source": [
    "# NETFLOW\n",
    "## 这是一个两种产品的运输问题\n",
    "\n",
    "1. Solve a multi-commodity flow problem.  Two products ('Pencils' and 'Pens') are produced in 2 cities ('Detroit' and 'Denver') and must be sent to warehouses in 3 cities ('Boston', 'New York', and 'Seattle') to satisfy demand ('$inflow_{[h,i]}$').\n",
    "\n",
    "2. Flows on the transportation network must respect arc capacity constraints('$ capacity_{[i,j]}$'). The objective is to minimize the sum of the arc transportation costs ('$cost_{[i,j]}$').\n",
    "\n",
    ">OPT: MIN_COST\n",
    "\n",
    ">CONSTRS：\n",
    "1. 满足流量限制\n",
    "2. 满足供需平衡\n",
    "\n"
   ]
  },
  {
   "cell_type": "code",
   "execution_count": 1,
   "metadata": {
    "pycharm": {}
   },
   "outputs": [],
   "source": [
    "from gurobipy import *"
   ]
  },
  {
   "cell_type": "code",
   "execution_count": 2,
   "metadata": {
    "pycharm": {}
   },
   "outputs": [],
   "source": [
    "commodities = ['Pencils', 'Pens']\n",
    "nodes = ['Detroit', 'Denver', 'Boston', 'New York', 'Seattle']"
   ]
  },
  {
   "cell_type": "code",
   "execution_count": 3,
   "metadata": {
    "pycharm": {}
   },
   "outputs": [],
   "source": [
    "arcs, capacity = multidict({\n",
    "  ('Detroit', 'Boston'):   100,\n",
    "  ('Detroit', 'New York'):  80,\n",
    "  ('Detroit', 'Seattle'):  120,\n",
    "  ('Denver',  'Boston'):   120,\n",
    "  ('Denver',  'New York'): 120,\n",
    "  ('Denver',  'Seattle'):  120 })"
   ]
  },
  {
   "cell_type": "code",
   "execution_count": 4,
   "metadata": {
    "pycharm": {}
   },
   "outputs": [],
   "source": [
    "cost = {\n",
    "  ('Pencils', 'Detroit', 'Boston'):   10,\n",
    "  ('Pencils', 'Detroit', 'New York'): 20,\n",
    "  ('Pencils', 'Detroit', 'Seattle'):  60,\n",
    "  ('Pencils', 'Denver',  'Boston'):   40,\n",
    "  ('Pencils', 'Denver',  'New York'): 40,\n",
    "  ('Pencils', 'Denver',  'Seattle'):  30,\n",
    "  ('Pens',    'Detroit', 'Boston'):   20,\n",
    "  ('Pens',    'Detroit', 'New York'): 20,\n",
    "  ('Pens',    'Detroit', 'Seattle'):  80,\n",
    "  ('Pens',    'Denver',  'Boston'):   60,\n",
    "  ('Pens',    'Denver',  'New York'): 70,\n",
    "  ('Pens',    'Denver',  'Seattle'):  30 }"
   ]
  },
  {
   "cell_type": "code",
   "execution_count": 5,
   "metadata": {
    "pycharm": {}
   },
   "outputs": [],
   "source": [
    "inflow = {\n",
    "  ('Pencils', 'Detroit'):   50,\n",
    "  ('Pencils', 'Denver'):    60,\n",
    "  ('Pencils', 'Boston'):   -50,\n",
    "  ('Pencils', 'New York'): -50,\n",
    "  ('Pencils', 'Seattle'):  -10,\n",
    "  ('Pens',    'Detroit'):   60,\n",
    "  ('Pens',    'Denver'):    40,\n",
    "  ('Pens',    'Boston'):   -40,\n",
    "  ('Pens',    'New York'): -30,\n",
    "  ('Pens',    'Seattle'):  -30 }"
   ]
  },
  {
   "cell_type": "code",
   "execution_count": 6,
   "metadata": {
    "pycharm": {}
   },
   "outputs": [],
   "source": [
    "# Create optimization model\n",
    "m = Model('netflow')"
   ]
  },
  {
   "cell_type": "code",
   "execution_count": 7,
   "metadata": {
    "pycharm": {}
   },
   "outputs": [],
   "source": [
    "# Create variables    flow[h][i][j]\n",
    "flow = m.addVars(commodities, arcs, obj=cost, name=\"flow\")"
   ]
  },
  {
   "cell_type": "code",
   "execution_count": 8,
   "metadata": {
    "pycharm": {}
   },
   "outputs": [
    {
     "data": {
      "text/plain": [
       "{('Detroit', 'Boston'): <gurobi.Constr *Awaiting Model Update*>,\n",
       " ('Detroit', 'New York'): <gurobi.Constr *Awaiting Model Update*>,\n",
       " ('Detroit', 'Seattle'): <gurobi.Constr *Awaiting Model Update*>,\n",
       " ('Denver', 'Boston'): <gurobi.Constr *Awaiting Model Update*>,\n",
       " ('Denver', 'New York'): <gurobi.Constr *Awaiting Model Update*>,\n",
       " ('Denver', 'Seattle'): <gurobi.Constr *Awaiting Model Update*>}"
      ]
     },
     "execution_count": 8,
     "metadata": {},
     "output_type": "execute_result"
    }
   ],
   "source": [
    "# Arc capacity constraints\n",
    "m.addConstrs(\n",
    "    (flow.sum('*',i,j) <= capacity[i,j] for i,j in arcs), \"cap\")"
   ]
  },
  {
   "cell_type": "code",
   "execution_count": 9,
   "metadata": {
    "pycharm": {}
   },
   "outputs": [
    {
     "data": {
      "text/plain": [
       "{('Pencils', 'Detroit'): <gurobi.Constr *Awaiting Model Update*>,\n",
       " ('Pencils', 'Denver'): <gurobi.Constr *Awaiting Model Update*>,\n",
       " ('Pencils', 'Boston'): <gurobi.Constr *Awaiting Model Update*>,\n",
       " ('Pencils', 'New York'): <gurobi.Constr *Awaiting Model Update*>,\n",
       " ('Pencils', 'Seattle'): <gurobi.Constr *Awaiting Model Update*>,\n",
       " ('Pens', 'Detroit'): <gurobi.Constr *Awaiting Model Update*>,\n",
       " ('Pens', 'Denver'): <gurobi.Constr *Awaiting Model Update*>,\n",
       " ('Pens', 'Boston'): <gurobi.Constr *Awaiting Model Update*>,\n",
       " ('Pens', 'New York'): <gurobi.Constr *Awaiting Model Update*>,\n",
       " ('Pens', 'Seattle'): <gurobi.Constr *Awaiting Model Update*>}"
      ]
     },
     "execution_count": 9,
     "metadata": {},
     "output_type": "execute_result"
    }
   ],
   "source": [
    "# Flow conservation constraints\n",
    "m.addConstrs(\n",
    "    (flow.sum(h,'*',j) + inflow[h,j] == flow.sum(h,j,'*')\n",
    "    for h in commodities for j in nodes), \"node\")"
   ]
  },
  {
   "cell_type": "code",
   "execution_count": 10,
   "metadata": {
    "pycharm": {}
   },
   "outputs": [
    {
     "name": "stdout",
     "output_type": "stream",
     "text": [
      "Optimize a model with 16 rows, 12 columns and 36 nonzeros\n",
      "Coefficient statistics:\n",
      "  Matrix range     [1e+00, 1e+00]\n",
      "  Objective range  [1e+01, 8e+01]\n",
      "  Bounds range     [0e+00, 0e+00]\n",
      "  RHS range        [1e+01, 1e+02]\n",
      "Presolve removed 16 rows and 12 columns\n",
      "Presolve time: 0.02s\n",
      "Presolve: All rows and columns removed\n",
      "Iteration    Objective       Primal Inf.    Dual Inf.      Time\n",
      "       0    5.5000000e+03   0.000000e+00   0.000000e+00      0s\n",
      "\n",
      "Solved in 0 iterations and 0.03 seconds\n",
      "Optimal objective  5.500000000e+03\n"
     ]
    }
   ],
   "source": [
    "# Compute optimal solution\n",
    "m.optimize()"
   ]
  },
  {
   "cell_type": "code",
   "execution_count": 11,
   "metadata": {},
   "outputs": [
    {
     "name": "stdout",
     "output_type": "stream",
     "text": [
      "\n",
      "Optimal flows for Pencils:\n",
      "Detroit\t ----->\t Boston \t:50\n",
      "Denver\t ----->\t New York \t:50\n",
      "Denver\t ----->\t Seattle \t:10\n",
      "\n",
      "Optimal flows for Pens:\n",
      "Detroit\t ----->\t Boston \t:30\n",
      "Detroit\t ----->\t New York \t:30\n",
      "Denver\t ----->\t Boston \t:10\n",
      "Denver\t ----->\t Seattle \t:30\n",
      "obj:\t 5500.0\n"
     ]
    }
   ],
   "source": [
    "obj=0\n",
    "if m.status == GRB.Status.OPTIMAL:\n",
    "    solution = m.getAttr('x', flow)\n",
    "    for h in commodities:\n",
    "        print('\\nOptimal flows for %s:' % h)\n",
    "        for i,j in arcs:\n",
    "            if solution[h,i,j] > 0:\n",
    "                print('%s\\t ----->\\t %s \\t:%g' % (i, j, solution[h,i,j]))\n",
    "                obj+=solution[h,i,j]*cost[h,i,j]\n",
    "                \n",
    "print('obj:\\t',obj)"
   ]
  }
 ],
 "metadata": {
  "kernelspec": {
   "display_name": "Python 3",
   "language": "python",
   "name": "python3"
  },
  "language_info": {
   "codemirror_mode": {
    "name": "ipython",
    "version": 3
   },
   "file_extension": ".py",
   "mimetype": "text/x-python",
   "name": "python",
   "nbconvert_exporter": "python",
   "pygments_lexer": "ipython3",
   "version": "3.7.0"
  }
 },
 "nbformat": 4,
 "nbformat_minor": 2
}
