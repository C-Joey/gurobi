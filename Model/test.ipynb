{
 "cells": [
  {
   "cell_type": "code",
   "execution_count": 1,
   "metadata": {
    "pycharm": {}
   },
   "outputs": [],
   "source": [
    "from gurobipy import*"
   ]
  },
  {
   "cell_type": "code",
   "execution_count": 2,
   "metadata": {
    "pycharm": {}
   },
   "outputs": [
    {
     "name": "stdout",
     "output_type": "stream",
     "text": [
      "[(1, 2), (1, 3), (2, 3), (2, 4)]\n"
     ]
    }
   ],
   "source": [
    "l = [(x,y)for x in range(1,3)for y in range(x+1,x+3)]\n",
    "print(l)"
   ]
  },
  {
   "cell_type": "code",
   "execution_count": 3,
   "metadata": {
    "pycharm": {}
   },
   "outputs": [],
   "source": [
    "from gurobipy import*\n",
    "m=Model(\"m\")\n",
    "d = m.addVars(l,name=\"d\")\n",
    "# l必须要是list类型[,,]"
   ]
  },
  {
   "cell_type": "code",
   "execution_count": 4,
   "metadata": {
    "pycharm": {}
   },
   "outputs": [
    {
     "name": "stdout",
     "output_type": "stream",
     "text": [
      "<gurobi.LinExpr: d[1,2] + d[1,3]>\n"
     ]
    }
   ],
   "source": [
    "a=sum(d.select(1,\"*\"))\n",
    "print(a)"
   ]
  },
  {
   "cell_type": "code",
   "execution_count": 5,
   "metadata": {
    "pycharm": {}
   },
   "outputs": [
    {
     "name": "stdout",
     "output_type": "stream",
     "text": [
      "<gurobi.Var d[1,3]>\n"
     ]
    }
   ],
   "source": [
    "print(d[1,3]) #var"
   ]
  },
  {
   "cell_type": "code",
   "execution_count": 6,
   "metadata": {
    "pycharm": {}
   },
   "outputs": [
    {
     "name": "stdout",
     "output_type": "stream",
     "text": [
      "{(1, 2): 3, (1, 3): 4, (2, 3): 5, (2, 4): 6}\n",
      "<bound method tupledict.values of {(1, 2): 3, (1, 3): 4, (2, 3): 5, (2, 4): 6}>\n"
     ]
    }
   ],
   "source": [
    "for x in range(1,3):\n",
    "    for y in range(x+1,x+3):\n",
    "        d[x,y]=x+y\n",
    "print(d)\n",
    "print(d.values)"
   ]
  }
 ],
 "metadata": {
  "kernelspec": {
   "display_name": "Python 3",
   "language": "python",
   "name": "python3"
  },
  "language_info": {
   "codemirror_mode": {
    "name": "ipython",
    "version": 3
   },
   "file_extension": ".py",
   "mimetype": "text/x-python",
   "name": "python",
   "nbconvert_exporter": "python",
   "pygments_lexer": "ipython3",
   "version": "3.7.3"
  }
 },
 "nbformat": 4,
 "nbformat_minor": 2
}
