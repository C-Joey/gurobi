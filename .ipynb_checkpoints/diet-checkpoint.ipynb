{
 "cells": [
  {
   "cell_type": "code",
   "execution_count": 1,
   "metadata": {},
   "outputs": [],
   "source": [
    "from gurobipy import *\n",
    "# Nutrition guidelines, based on\n",
    "# USDA Dietary Guidelines for Americans, 2005\n",
    "# http://www.health.gov/DietaryGuidelines/dga2005/"
   ]
  },
  {
   "cell_type": "code",
   "execution_count": 2,
   "metadata": {},
   "outputs": [],
   "source": [
    "categories, minNutrition, maxNutrition = multidict({\n",
    "  'calories': [1800, 2200],\n",
    "  'protein':  [91, GRB.INFINITY],\n",
    "  'fat':      [0, 65],\n",
    "  'sodium':   [0, 1779] })\n",
    "\n",
    "foods, cost = multidict({\n",
    "  'hamburger': 2.49,\n",
    "  'chicken':   2.89,\n",
    "  'hot dog':   1.50,\n",
    "  'fries':     1.89,\n",
    "  'macaroni':  2.09,\n",
    "  'pizza':     1.99,\n",
    "  'salad':     2.49,\n",
    "  'milk':      0.89,\n",
    "  'ice cream': 1.59 })\n",
    "\n",
    "# Nutrition values for the foods\n",
    "nutritionValues = {\n",
    "  ('hamburger', 'calories'): 410,\n",
    "  ('hamburger', 'protein'):  24,\n",
    "  ('hamburger', 'fat'):      26,\n",
    "  ('hamburger', 'sodium'):   730,\n",
    "  ('chicken',   'calories'): 420,\n",
    "  ('chicken',   'protein'):  32,\n",
    "  ('chicken',   'fat'):      10,\n",
    "  ('chicken',   'sodium'):   1190,\n",
    "  ('hot dog',   'calories'): 560,\n",
    "  ('hot dog',   'protein'):  20,\n",
    "  ('hot dog',   'fat'):      32,\n",
    "  ('hot dog',   'sodium'):   1800,\n",
    "  ('fries',     'calories'): 380,\n",
    "  ('fries',     'protein'):  4,\n",
    "  ('fries',     'fat'):      19,\n",
    "  ('fries',     'sodium'):   270,\n",
    "  ('macaroni',  'calories'): 320,\n",
    "  ('macaroni',  'protein'):  12,\n",
    "  ('macaroni',  'fat'):      10,\n",
    "  ('macaroni',  'sodium'):   930,\n",
    "  ('pizza',     'calories'): 320,\n",
    "  ('pizza',     'protein'):  15,\n",
    "  ('pizza',     'fat'):      12,\n",
    "  ('pizza',     'sodium'):   820,\n",
    "  ('salad',     'calories'): 320,\n",
    "  ('salad',     'protein'):  31,\n",
    "  ('salad',     'fat'):      12,\n",
    "  ('salad',     'sodium'):   1230,\n",
    "  ('milk',      'calories'): 100,\n",
    "  ('milk',      'protein'):  8,\n",
    "  ('milk',      'fat'):      2.5,\n",
    "  ('milk',      'sodium'):   125,\n",
    "  ('ice cream', 'calories'): 330,\n",
    "  ('ice cream', 'protein'):  8,\n",
    "  ('ice cream', 'fat'):      10,\n",
    "  ('ice cream', 'sodium'):   180 }"
   ]
  },
  {
   "cell_type": "code",
   "execution_count": 3,
   "metadata": {},
   "outputs": [],
   "source": [
    "# Model\n",
    "m = Model(\"diet\")\n",
    "\n",
    "# Create decision variables for the foods to buy\n",
    "buy = m.addVars(foods, name=\"buy\")\n",
    "\n",
    "# You could use Python looping constructs and m.addVar() to create\n",
    "# these decision variables instead.  The following would be equivalent\n",
    "#\n",
    "# buy = {}\n",
    "# for f in foods:\n",
    "#   buy[f] = m.addVar(name=f)\n",
    "\n",
    "# The objective is to minimize the costs\n",
    "m.setObjective(buy.prod(cost), GRB.MINIMIZE)\n",
    "\n",
    "# Using looping constructs, the preceding statement would be:\n",
    "#\n",
    "# m.setObjective(sum(buy[f]*cost[f] for f in foods), GRB.MINIMIZE)"
   ]
  },
  {
   "cell_type": "code",
   "execution_count": 4,
   "metadata": {},
   "outputs": [
    {
     "data": {
      "text/plain": [
       "{'calories': <gurobi.Constr *Awaiting Model Update*>,\n",
       " 'protein': <gurobi.Constr *Awaiting Model Update*>,\n",
       " 'fat': <gurobi.Constr *Awaiting Model Update*>,\n",
       " 'sodium': <gurobi.Constr *Awaiting Model Update*>}"
      ]
     },
     "execution_count": 4,
     "metadata": {},
     "output_type": "execute_result"
    }
   ],
   "source": [
    "# Nutrition constraints\n",
    "m.addConstrs(\n",
    "    (quicksum(nutritionValues[f,c] * buy[f] for f in foods)\n",
    "    \t== [minNutrition[c], maxNutrition[c]]\n",
    "     for c in categories), \"_\")\n",
    "\n",
    "# Using looping constructs, the preceding statement would be:\n",
    "#\n",
    "# for c in categories:\n",
    "#  m.addRange(\n",
    "#     sum(nutritionValues[f,c] * buy[f] for f in foods), minNutrition[c], maxNutrition[c], c)"
   ]
  },
  {
   "cell_type": "code",
   "execution_count": null,
   "metadata": {},
   "outputs": [],
   "source": []
  }
 ],
 "metadata": {
  "kernelspec": {
   "display_name": "Python 3",
   "language": "python",
   "name": "python3"
  },
  "language_info": {
   "codemirror_mode": {
    "name": "ipython",
    "version": 3
   },
   "file_extension": ".py",
   "mimetype": "text/x-python",
   "name": "python",
   "nbconvert_exporter": "python",
   "pygments_lexer": "ipython3",
   "version": "3.7.0"
  }
 },
 "nbformat": 4,
 "nbformat_minor": 2
}
