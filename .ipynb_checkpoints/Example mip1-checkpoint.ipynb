{
 "cells": [
  {
   "cell_type": "markdown",
   "metadata": {},
   "source": [
    "# 简单实例\n",
    "## **求解LP问题如下**\n",
    ">$ \\max=x+y+2z \\\\ $\n",
    "\n",
    ">$\n",
    "s.b\n",
    "\\begin{cases}\n",
    "    x+2y+3z & \\leq 4 \\\\ \n",
    "    x+y &\\geqslant  1 \\\\\n",
    "    x,y,z & binary\n",
    "\\end{cases}  \n",
    "$\n",
    "## **求解过程：**"
   ]
  },
  {
   "cell_type": "markdown",
   "metadata": {},
   "source": [
    "\n",
    "> 1. 定义模型，变量\n",
    "2. 定义目标函数\n",
    "3. 设置目标函数\n",
    "4. 设置约束\n",
    "5. m.optimize() 求解运算\n",
    "6. 输出变量结果和目标函数结果\n",
    "****\n",
    "## **代码如下**"
   ]
  },
  {
   "cell_type": "code",
   "execution_count": 1,
   "metadata": {
    "scrolled": false
   },
   "outputs": [
    {
     "name": "stdout",
     "output_type": "stream",
     "text": [
      "Optimize a model with 2 rows, 3 columns and 5 nonzeros\n",
      "Variable types: 0 continuous, 3 integer (3 binary)\n",
      "Coefficient statistics:\n",
      "  Matrix range     [1e+00, 3e+00]\n",
      "  Objective range  [1e+00, 2e+00]\n",
      "  Bounds range     [1e+00, 1e+00]\n",
      "  RHS range        [1e+00, 4e+00]\n",
      "Found heuristic solution: objective 2.0000000\n",
      "Presolve removed 2 rows and 3 columns\n",
      "Presolve time: 0.00s\n",
      "Presolve: All rows and columns removed\n",
      "\n",
      "Explored 0 nodes (0 simplex iterations) in 0.01 seconds\n",
      "Thread count was 1 (of 8 available processors)\n",
      "\n",
      "Solution count 2: 3 2 \n",
      "\n",
      "Optimal solution found (tolerance 1.00e-04)\n",
      "Best objective 3.000000000000e+00, best bound 3.000000000000e+00, gap 0.0000%\n",
      "x 1.0\n",
      "y 0.0\n",
      "z 1.0\n",
      "Obj: 3.0\n"
     ]
    }
   ],
   "source": [
    "from gurobipy import*\n",
    "try:\n",
    "    m = Model(\"mip1\")\n",
    "\n",
    "    x = m.addVar(vtype =GRB.BINARY, name=\"x\")\n",
    "    y = m.addVar(vtype=GRB.BINARY, name=\"y\")\n",
    "    z = m.addVar(vtype=GRB.BINARY, name=\"z\")\n",
    "\n",
    "    m.setObjective(x+y+2*z, GRB.MAXIMIZE)\n",
    "\n",
    "    m.addConstr(x+2*y+3*z <= 4, \"c0\")\n",
    "    m.addConstr(x+y >= 1, \"c1\")\n",
    "\n",
    "    m.optimize()\n",
    "\n",
    "    for v in m.getVars():\n",
    "        print(v.varName, v.x)\n",
    "\n",
    "    print('Obj:', m.objVal)\n",
    "\n",
    "except GurobiError:\n",
    "    print(\"Error\")"
   ]
  }
 ],
 "metadata": {
  "kernelspec": {
   "display_name": "Python 3",
   "language": "python",
   "name": "python3"
  },
  "language_info": {
   "codemirror_mode": {
    "name": "ipython",
    "version": 3
   },
   "file_extension": ".py",
   "mimetype": "text/x-python",
   "name": "python",
   "nbconvert_exporter": "python",
   "pygments_lexer": "ipython3",
   "version": "3.7.0"
  }
 },
 "nbformat": 4,
 "nbformat_minor": 2
}
