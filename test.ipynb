{
  "cells": [
    {
      "cell_type": "code",
      "execution_count": 34,
      "metadata": {
        "pycharm": {}
      },
      "outputs": [],
      "source": [
        "from gurobipy import*"
      ]
    },
    {
      "cell_type": "code",
      "execution_count": 69,
      "metadata": {
        "pycharm": {}
      },
      "outputs": [
        {
          "name": "stdout",
          "output_type": "stream",
          "text": [
            "[(1, 2), (1, 3), (2, 3), (2, 4)]\n"
          ]
        }
      ],
      "source": [
        "l \u003d [(x,y)for x in range(1,3)for y in range(x+1,x+3)]\n",
        "print(l)"
      ]
    },
    {
      "cell_type": "code",
      "execution_count": 70,
      "metadata": {
        "pycharm": {}
      },
      "outputs": [],
      "source": [
        "from gurobipy import*\n",
        "m\u003dModel(\"m\")\n",
        "d \u003d m.addVars(l,name\u003d\"d\")\n",
        "# l必须要是list类型[,,]"
      ]
    },
    {
      "cell_type": "code",
      "execution_count": 71,
      "metadata": {
        "pycharm": {}
      },
      "outputs": [
        {
          "name": "stdout",
          "output_type": "stream",
          "text": [
            "\u003cgurobi.LinExpr: d[1,2] + d[1,3]\u003e\n"
          ]
        }
      ],
      "source": [
        "a\u003dsum(d.select(1,\"*\"))\n",
        "print(a)"
      ]
    },
    {
      "cell_type": "code",
      "execution_count": 72,
      "metadata": {
        "pycharm": {}
      },
      "outputs": [
        {
          "name": "stdout",
          "output_type": "stream",
          "text": [
            "\u003cgurobi.Var d[1,3]\u003e\n"
          ]
        }
      ],
      "source": [
        "print(d[1,3]) #var"
      ]
    },
    {
      "cell_type": "code",
      "execution_count": 84,
      "metadata": {
        "pycharm": {}
      },
      "outputs": [
        {
          "name": "stdout",
          "output_type": "stream",
          "text": [
            "{(1, 2): 3, (1, 3): 4, (2, 3): 5, (2, 4): 6}\n",
            "\u003cbound method tupledict.values of {(1, 2): 3, (1, 3): 4, (2, 3): 5, (2, 4): 6}\u003e\n"
          ]
        }
      ],
      "source": "for x in range(1,3):\n    for y in range(x+1,x+3):\n        d[x,y]\u003dx+y\nprint(d)\nprint(d.values)"
    }
  ],
  "metadata": {
    "kernelspec": {
      "display_name": "Python 3",
      "language": "python",
      "name": "python3"
    },
    "language_info": {
      "codemirror_mode": {
        "name": "ipython",
        "version": 3
      },
      "file_extension": ".py",
      "mimetype": "text/x-python",
      "name": "python",
      "nbconvert_exporter": "python",
      "pygments_lexer": "ipython3",
      "version": "3.7.0"
    }
  },
  "nbformat": 4,
  "nbformat_minor": 2
}